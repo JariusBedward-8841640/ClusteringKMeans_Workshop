{
 "cells": [
  {
   "cell_type": "markdown",
   "metadata": {},
   "source": [
    "![Image Description](./images/K-Means.jpeg)\n"
   ]
  },
  {
   "cell_type": "markdown",
   "metadata": {},
   "source": [
    "# Environment Setup\n",
    "\n",
    "\n",
    "These libraries must be installed in your Python Kernel before you run the code in this notebook."
   ]
  },
  {
   "cell_type": "code",
   "metadata": {
    "ExecuteTime": {
     "end_time": "2025-10-28T19:46:09.215440Z",
     "start_time": "2025-10-28T19:46:09.211411Z"
    }
   },
   "source": [
    "# pip install ipython\n",
    "# pip install seaborn\n",
    "# pip install statsmodels"
   ],
   "outputs": [],
   "execution_count": 11
  },
  {
   "cell_type": "markdown",
   "metadata": {},
   "source": [
    "# Coding etiquette\n",
    "\n",
    "### Start by clearing all output and workspace"
   ]
  },
  {
   "cell_type": "code",
   "metadata": {},
   "source": [
    "# Clear plots\n",
    "import matplotlib.pyplot as plt\n",
    "plt.close('all')\n",
    "\n",
    "# Clear console\n",
    "from IPython.display import clear_output\n",
    "clear_output()\n",
    "\n",
    "# Clean workspace\n",
    "%reset -f\n"
   ],
   "execution_count": 12,
   "outputs": []
  },
  {
   "cell_type": "markdown",
   "metadata": {},
   "source": [
    "### Import all necessary libraries"
   ]
  },
  {
   "cell_type": "code",
   "metadata": {
    "ExecuteTime": {
     "end_time": "2025-10-28T19:46:09.511992Z",
     "start_time": "2025-10-28T19:46:09.507027Z"
    }
   },
   "source": [
    "# Import necessary libraries\n",
    "import pandas as pd\n",
    "import numpy as np\n",
    "import matplotlib.pyplot as plt\n",
    "import seaborn as sns\n",
    "from scipy import stats\n",
    "import statsmodels.api as sm\n",
    "import statsmodels.formula.api as smf\n",
    "from sklearn.preprocessing import MinMaxScaler\n"
   ],
   "outputs": [],
   "execution_count": 13
  },
  {
   "cell_type": "markdown",
   "metadata": {},
   "source": [
    "# Clustering\n",
    "\n",
    "Clustering, in data science, is about grouping similar data points together so that data points in the same group (called a cluster) are more similar to each other than to those in other groups. K-Means is one of the simplest and most commonly used clustering algorithms.\n",
    "\n",
    "## Purpose of K-Means\n",
    "The main goal of K-Means is to partition a dataset into K distinct clusters. Each cluster is represented by its center (or \"centroid\"), and every data point is assigned to the cluster with the nearest centroid.\n",
    "\n",
    "## Introduction to Clustering and K-Means in the Hospitality Industry\n",
    "\n",
    "In the hospitality industry, understanding customer behavior is critical. Let's say you manage a hotel and want to group your guests based on their preferences for room service, stay duration, and spending behavior. This can help you create tailored offers for each group.\n",
    "\n",
    "The K-Means algorithm helps by dividing your customers into distinct clusters based on these features. Each cluster will represent a group of customers who behave similarly."
   ]
  },
  {
   "cell_type": "markdown",
   "metadata": {},
   "source": [
    "## Example Problem:\n",
    "You have 50 customers with 3 attributes:\n",
    "\n",
    "Room Service Spend: How much they spend on room service (in dollars).\n",
    "Stay Duration: How many nights they stayed at the hotel.\n",
    "Total Bill: The total amount they paid for their stay.\n",
    "We will:\n",
    "\n",
    "Generate a dataset with these 50 customers.\n",
    "Use the K-Means algorithm to divide them into 3 clusters (for example: budget, mid-range, and luxury customers)."
   ]
  },
  {
   "cell_type": "code",
   "metadata": {
    "ExecuteTime": {
     "end_time": "2025-10-28T19:46:09.538960Z",
     "start_time": "2025-10-28T19:46:09.526939Z"
    }
   },
   "source": [
    "# Import necessary libraries\n",
    "import numpy as np\n",
    "import pandas as pd\n",
    "import matplotlib.pyplot as plt\n",
    "from sklearn.cluster import KMeans\n",
    "\n",
    "# Set a random seed for reproducibility\n",
    "np.random.seed(42)\n",
    "\n",
    "# Generate 50 customer samples\n",
    "# Room Service Spend, Stay Duration (nights), and Total Bill\n",
    "room_service = np.random.randint(50, 400, size=50)  # Room service spend between $50 and $400\n",
    "stay_duration = np.random.randint(1, 10, size=50)  # Stay duration between 1 and 10 nights\n",
    "total_bill = room_service + stay_duration * np.random.randint(100, 500, size=50)  # Total bill combining stay and extras\n",
    "\n",
    "# Combine into a DataFrame\n",
    "customer_data = pd.DataFrame({\n",
    "    'Room_Service_Spend': room_service,\n",
    "    'Stay_Duration': stay_duration,\n",
    "    'Total_Bill': total_bill\n",
    "})\n",
    "\n",
    "# Display first few rows of the dataset\n",
    "customer_data.head()\n"
   ],
   "outputs": [
    {
     "data": {
      "text/plain": [
       "   Room_Service_Spend  Stay_Duration  Total_Bill\n",
       "0                 152              9        3455\n",
       "1                 398              5        1058\n",
       "2                 320              2         614\n",
       "3                 156              4         800\n",
       "4                 121              7        2326"
      ],
      "text/html": [
       "<div>\n",
       "<style scoped>\n",
       "    .dataframe tbody tr th:only-of-type {\n",
       "        vertical-align: middle;\n",
       "    }\n",
       "\n",
       "    .dataframe tbody tr th {\n",
       "        vertical-align: top;\n",
       "    }\n",
       "\n",
       "    .dataframe thead th {\n",
       "        text-align: right;\n",
       "    }\n",
       "</style>\n",
       "<table border=\"1\" class=\"dataframe\">\n",
       "  <thead>\n",
       "    <tr style=\"text-align: right;\">\n",
       "      <th></th>\n",
       "      <th>Room_Service_Spend</th>\n",
       "      <th>Stay_Duration</th>\n",
       "      <th>Total_Bill</th>\n",
       "    </tr>\n",
       "  </thead>\n",
       "  <tbody>\n",
       "    <tr>\n",
       "      <th>0</th>\n",
       "      <td>152</td>\n",
       "      <td>9</td>\n",
       "      <td>3455</td>\n",
       "    </tr>\n",
       "    <tr>\n",
       "      <th>1</th>\n",
       "      <td>398</td>\n",
       "      <td>5</td>\n",
       "      <td>1058</td>\n",
       "    </tr>\n",
       "    <tr>\n",
       "      <th>2</th>\n",
       "      <td>320</td>\n",
       "      <td>2</td>\n",
       "      <td>614</td>\n",
       "    </tr>\n",
       "    <tr>\n",
       "      <th>3</th>\n",
       "      <td>156</td>\n",
       "      <td>4</td>\n",
       "      <td>800</td>\n",
       "    </tr>\n",
       "    <tr>\n",
       "      <th>4</th>\n",
       "      <td>121</td>\n",
       "      <td>7</td>\n",
       "      <td>2326</td>\n",
       "    </tr>\n",
       "  </tbody>\n",
       "</table>\n",
       "</div>"
      ]
     },
     "execution_count": 14,
     "metadata": {},
     "output_type": "execute_result"
    }
   ],
   "execution_count": 14
  },
  {
   "cell_type": "markdown",
   "metadata": {},
   "source": [
    "## Use Case\n",
    "We now have a dataset of 50 customers. Each customer has data on their:\n",
    "\n",
    "Room_Service_Spend: Amount spent on room service.\n",
    "Stay_Duration: Number of nights they stayed.\n",
    "Total_Bill: The total amount they paid for the stay.\n",
    "Here’s how K-Means works:\n",
    "\n",
    "Step 1: Choose K (number of clusters). We’ll set K=3 to group the customers into 3 segments.\n",
    "Step 2: Initialize centroids. The algorithm will randomly initialize 3 centroids (the \"center\" of each cluster).\n",
    "Step 3: Assign customers to the nearest centroid.\n",
    "Step 4: Update the centroid locations based on the average position of all customers in each cluster.\n",
    "Step 5: Repeat until the centroids don’t move much anymore (convergence).\n",
    "\n",
    "Let’s run K-Means with 3 clusters on the customer dataset.\n",
    "\n"
   ]
  },
  {
   "cell_type": "code",
   "metadata": {
    "ExecuteTime": {
     "end_time": "2025-10-28T19:46:09.824353Z",
     "start_time": "2025-10-28T19:46:09.668097Z"
    }
   },
   "source": [
    "# Plot the clusters\n",
    "plt.figure(figsize=(10, 6))\n",
    "\n",
    "# Plot Total Bill vs Room Service Spend, colored by cluster\n",
    "plt.scatter(customer_data['Room_Service_Spend'], customer_data['Total_Bill'], \n",
    "            c=customer_data['Cluster'], cmap='viridis')\n",
    "\n",
    "# Add labels and title\n",
    "plt.xlabel('Room Service Spend ($)')\n",
    "plt.ylabel('Total Bill ($)')\n",
    "plt.title('Customer Clusters Based on Spending Behavior')\n",
    "plt.colorbar(label='Cluster')\n",
    "plt.show()\n"
   ],
   "outputs": [
    {
     "ename": "KeyError",
     "evalue": "'Cluster'",
     "output_type": "error",
     "traceback": [
      "\u001B[31m---------------------------------------------------------------------------\u001B[39m",
      "\u001B[31mKeyError\u001B[39m                                  Traceback (most recent call last)",
      "\u001B[36mFile \u001B[39m\u001B[32m~\\AppData\\Local\\Programs\\Python\\Python313\\Lib\\site-packages\\pandas\\core\\indexes\\base.py:3812\u001B[39m, in \u001B[36mIndex.get_loc\u001B[39m\u001B[34m(self, key)\u001B[39m\n\u001B[32m   3811\u001B[39m \u001B[38;5;28;01mtry\u001B[39;00m:\n\u001B[32m-> \u001B[39m\u001B[32m3812\u001B[39m     \u001B[38;5;28;01mreturn\u001B[39;00m \u001B[38;5;28;43mself\u001B[39;49m\u001B[43m.\u001B[49m\u001B[43m_engine\u001B[49m\u001B[43m.\u001B[49m\u001B[43mget_loc\u001B[49m\u001B[43m(\u001B[49m\u001B[43mcasted_key\u001B[49m\u001B[43m)\u001B[49m\n\u001B[32m   3813\u001B[39m \u001B[38;5;28;01mexcept\u001B[39;00m \u001B[38;5;167;01mKeyError\u001B[39;00m \u001B[38;5;28;01mas\u001B[39;00m err:\n",
      "\u001B[36mFile \u001B[39m\u001B[32mpandas/_libs/index.pyx:167\u001B[39m, in \u001B[36mpandas._libs.index.IndexEngine.get_loc\u001B[39m\u001B[34m()\u001B[39m\n",
      "\u001B[36mFile \u001B[39m\u001B[32mpandas/_libs/index.pyx:196\u001B[39m, in \u001B[36mpandas._libs.index.IndexEngine.get_loc\u001B[39m\u001B[34m()\u001B[39m\n",
      "\u001B[36mFile \u001B[39m\u001B[32mpandas/_libs/hashtable_class_helper.pxi:7088\u001B[39m, in \u001B[36mpandas._libs.hashtable.PyObjectHashTable.get_item\u001B[39m\u001B[34m()\u001B[39m\n",
      "\u001B[36mFile \u001B[39m\u001B[32mpandas/_libs/hashtable_class_helper.pxi:7096\u001B[39m, in \u001B[36mpandas._libs.hashtable.PyObjectHashTable.get_item\u001B[39m\u001B[34m()\u001B[39m\n",
      "\u001B[31mKeyError\u001B[39m: 'Cluster'",
      "\nThe above exception was the direct cause of the following exception:\n",
      "\u001B[31mKeyError\u001B[39m                                  Traceback (most recent call last)",
      "\u001B[36mCell\u001B[39m\u001B[36m \u001B[39m\u001B[32mIn[15]\u001B[39m\u001B[32m, line 6\u001B[39m\n\u001B[32m      2\u001B[39m plt.figure(figsize=(\u001B[32m10\u001B[39m, \u001B[32m6\u001B[39m))\n\u001B[32m      4\u001B[39m \u001B[38;5;66;03m# Plot Total Bill vs Room Service Spend, colored by cluster\u001B[39;00m\n\u001B[32m      5\u001B[39m plt.scatter(customer_data[\u001B[33m'\u001B[39m\u001B[33mRoom_Service_Spend\u001B[39m\u001B[33m'\u001B[39m], customer_data[\u001B[33m'\u001B[39m\u001B[33mTotal_Bill\u001B[39m\u001B[33m'\u001B[39m], \n\u001B[32m----> \u001B[39m\u001B[32m6\u001B[39m             c=\u001B[43mcustomer_data\u001B[49m\u001B[43m[\u001B[49m\u001B[33;43m'\u001B[39;49m\u001B[33;43mCluster\u001B[39;49m\u001B[33;43m'\u001B[39;49m\u001B[43m]\u001B[49m, cmap=\u001B[33m'\u001B[39m\u001B[33mviridis\u001B[39m\u001B[33m'\u001B[39m)\n\u001B[32m      8\u001B[39m \u001B[38;5;66;03m# Add labels and title\u001B[39;00m\n\u001B[32m      9\u001B[39m plt.xlabel(\u001B[33m'\u001B[39m\u001B[33mRoom Service Spend ($)\u001B[39m\u001B[33m'\u001B[39m)\n",
      "\u001B[36mFile \u001B[39m\u001B[32m~\\AppData\\Local\\Programs\\Python\\Python313\\Lib\\site-packages\\pandas\\core\\frame.py:4113\u001B[39m, in \u001B[36mDataFrame.__getitem__\u001B[39m\u001B[34m(self, key)\u001B[39m\n\u001B[32m   4111\u001B[39m \u001B[38;5;28;01mif\u001B[39;00m \u001B[38;5;28mself\u001B[39m.columns.nlevels > \u001B[32m1\u001B[39m:\n\u001B[32m   4112\u001B[39m     \u001B[38;5;28;01mreturn\u001B[39;00m \u001B[38;5;28mself\u001B[39m._getitem_multilevel(key)\n\u001B[32m-> \u001B[39m\u001B[32m4113\u001B[39m indexer = \u001B[38;5;28;43mself\u001B[39;49m\u001B[43m.\u001B[49m\u001B[43mcolumns\u001B[49m\u001B[43m.\u001B[49m\u001B[43mget_loc\u001B[49m\u001B[43m(\u001B[49m\u001B[43mkey\u001B[49m\u001B[43m)\u001B[49m\n\u001B[32m   4114\u001B[39m \u001B[38;5;28;01mif\u001B[39;00m is_integer(indexer):\n\u001B[32m   4115\u001B[39m     indexer = [indexer]\n",
      "\u001B[36mFile \u001B[39m\u001B[32m~\\AppData\\Local\\Programs\\Python\\Python313\\Lib\\site-packages\\pandas\\core\\indexes\\base.py:3819\u001B[39m, in \u001B[36mIndex.get_loc\u001B[39m\u001B[34m(self, key)\u001B[39m\n\u001B[32m   3814\u001B[39m     \u001B[38;5;28;01mif\u001B[39;00m \u001B[38;5;28misinstance\u001B[39m(casted_key, \u001B[38;5;28mslice\u001B[39m) \u001B[38;5;129;01mor\u001B[39;00m (\n\u001B[32m   3815\u001B[39m         \u001B[38;5;28misinstance\u001B[39m(casted_key, abc.Iterable)\n\u001B[32m   3816\u001B[39m         \u001B[38;5;129;01mand\u001B[39;00m \u001B[38;5;28many\u001B[39m(\u001B[38;5;28misinstance\u001B[39m(x, \u001B[38;5;28mslice\u001B[39m) \u001B[38;5;28;01mfor\u001B[39;00m x \u001B[38;5;129;01min\u001B[39;00m casted_key)\n\u001B[32m   3817\u001B[39m     ):\n\u001B[32m   3818\u001B[39m         \u001B[38;5;28;01mraise\u001B[39;00m InvalidIndexError(key)\n\u001B[32m-> \u001B[39m\u001B[32m3819\u001B[39m     \u001B[38;5;28;01mraise\u001B[39;00m \u001B[38;5;167;01mKeyError\u001B[39;00m(key) \u001B[38;5;28;01mfrom\u001B[39;00m\u001B[38;5;250m \u001B[39m\u001B[34;01merr\u001B[39;00m\n\u001B[32m   3820\u001B[39m \u001B[38;5;28;01mexcept\u001B[39;00m \u001B[38;5;167;01mTypeError\u001B[39;00m:\n\u001B[32m   3821\u001B[39m     \u001B[38;5;66;03m# If we have a listlike key, _check_indexing_error will raise\u001B[39;00m\n\u001B[32m   3822\u001B[39m     \u001B[38;5;66;03m#  InvalidIndexError. Otherwise we fall through and re-raise\u001B[39;00m\n\u001B[32m   3823\u001B[39m     \u001B[38;5;66;03m#  the TypeError.\u001B[39;00m\n\u001B[32m   3824\u001B[39m     \u001B[38;5;28mself\u001B[39m._check_indexing_error(key)\n",
      "\u001B[31mKeyError\u001B[39m: 'Cluster'"
     ]
    },
    {
     "data": {
      "text/plain": [
       "<Figure size 1000x600 with 0 Axes>"
      ]
     },
     "metadata": {},
     "output_type": "display_data",
     "jetTransient": {
      "display_id": null
     }
    }
   ],
   "execution_count": 15
  },
  {
   "cell_type": "markdown",
   "metadata": {},
   "source": [
    "## Analysis\n",
    "\n",
    "Jupyter Markdown Cell:\n",
    "This scatter plot shows how customers were grouped into clusters based on their Room Service Spend and Total Bill. Each color represents a different customer segment.\n",
    "\n",
    "Cluster 0: Likely budget customers, spending less on room service and having a lower total bill.\n",
    "Cluster 1: Likely mid-range customers, with moderate spending.\n",
    "Cluster 2: Likely luxury customers, who stay longer and spend more on room service.\n",
    "By identifying these groups, the hotel can tailor marketing strategies for each cluster, like offering special deals to budget customers or personalized services to luxury guests.\n",
    "\n"
   ]
  }
 ],
 "metadata": {
  "kernelspec": {
   "display_name": "Python 3",
   "language": "python",
   "name": "python3"
  },
  "language_info": {
   "codemirror_mode": {
    "name": "ipython",
    "version": 3
   },
   "file_extension": ".py",
   "mimetype": "text/x-python",
   "name": "python",
   "nbconvert_exporter": "python",
   "pygments_lexer": "ipython3",
   "version": "3.12.1"
  }
 },
 "nbformat": 4,
 "nbformat_minor": 2
}
