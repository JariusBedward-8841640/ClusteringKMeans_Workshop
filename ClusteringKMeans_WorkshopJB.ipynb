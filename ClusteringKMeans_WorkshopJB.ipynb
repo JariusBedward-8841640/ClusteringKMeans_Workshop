{
 "cells": [
  {
   "metadata": {},
   "cell_type": "markdown",
   "source": [
    "#### Team members\n",
    "\n",
    "1. Mostafa Allahmoradi - 9087818\n",
    "2. Cemil Caglar Yapici – 9081058\n",
    "3. Jarius Bedward - 8841640"
   ],
   "id": "41f04d2a4aaf7bf6"
  },
  {
   "metadata": {},
   "cell_type": "markdown",
   "source": "# Import Libraries & Dependencies",
   "id": "c55878cdc30e4d13"
  },
  {
   "metadata": {},
   "cell_type": "code",
   "outputs": [],
   "execution_count": null,
   "source": [
    "import pandas as pd\n",
    "import numpy as np\n",
    "import seaborn as sns\n",
    "from sklearn.preprocessing import LabelEncoder\n",
    "import matplotlib.pyplot as plt\n",
    "from sklearn.preprocessing import StandardScaler\n",
    "from sklearn.cluster import KMeans\n",
    "from sklearn.decomposition import PCA\n",
    "from sklearn.metrics import silhouette_score\n"
   ],
   "id": "3d414aa3a506d31f"
  },
  {
   "metadata": {},
   "cell_type": "markdown",
   "source": [
    "#### Problem statement\n",
    "\n",
    "Area of Focus:\n",
    "In today’s world, health conditions such as heart disease, obesity, and diabetes are rapidly increasing. Many of these illnesses are directly linked to preventable lifestyle factors such as poor diet, lack of physical activity, smoking, alcohol consumption, and inadequate sleep. Despite increased awareness about healthy living, many individuals are still at risk because they underestimate how daily habits affect their well-being in long-term.\n",
    "\n",
    "Outcome:\n",
    "Early detection and prevention could save lives and reduce medical costs, but traditional screening methods are often not effective, and they typically only identify problems after symptoms appear, missing critical opportunities for prevention.\n",
    "\n",
    "This project aims to explore how machine learning can help predict the likelihood of developing a heart condition (or general illness) based on an individual’s diet, lifestyle, and fitness-related factors. By analyzing real-world health data, our goal is to identify key risk factors and build a predictive model that can help individuals take proactive measures toward healthier living."
   ],
   "id": "f1f8f69a5acd207"
  },
  {
   "metadata": {},
   "cell_type": "markdown",
   "source": [
    "#### Hypothesis\n",
    "\n",
    "Null hypothesis:\n",
    "\n",
    "H0: Individual with composite lifestyle score (worse diet + smoking + high alcohol consumption + low activity + poor sleep) are at high risk of heart disease\n",
    "\n",
    "\n",
    "Alternative hypothesis:\n",
    "\n",
    "H1: Current smokers have higher odds of heart disease than non-smokers\n",
    "Test: logistic regression coefficient for smoking; report odds ratio (O.R.) and 95% CI.\n",
    "\n",
    "H2: Individuals with low physical activity (e.g., <150 min/week) have a higher chance of heart disease than those meeting activity guidelines.\n",
    "Test: logistic regression or compare group prevalences; p-value for activity variable.\n",
    "\n",
    "H3: Higher BMI is positively associated with heart disease risk (dose–response).\n",
    "Test: regression coefficient per unit BMI and/or BMI category comparisons.\n",
    "\n",
    "H4: A model using lifestyle and fitness variables (diet quality, physical activity, smoking, alcohol use, sleep, BMI) will predict the likelihood of heart disease occuring\n",
    "Test: compare model performance (ROC-AUC, F1) for (a) single best predictor vs (b) composite score vs (c) full model."
   ],
   "id": "997a75b128063773"
  },
  {
   "metadata": {},
   "cell_type": "markdown",
   "source": "#### Data Source: Heart Disease Risk Factors",
   "id": "92e6d3c0822a894c"
  },
  {
   "metadata": {},
   "cell_type": "markdown",
   "source": "## 1. Load the Data sets",
   "id": "a519c5183ce6d8e6"
  },
  {
   "metadata": {},
   "cell_type": "code",
   "outputs": [],
   "execution_count": null,
   "source": [
    "heart_disease_dataset = pd.read_csv(\"data/heart_disease.csv\")\n",
    "\n",
    "display(heart_disease_dataset.head(5))\n",
    "display(heart_disease_dataset.info())\n",
    "\n",
    "display(heart_disease_dataset.describe().T)"
   ],
   "id": "a7d0b3ec2c810d16"
  },
  {
   "metadata": {},
   "cell_type": "markdown",
   "source": [
    "## 2. Clean the data\n",
    "  basic cleaning of the data"
   ],
   "id": "9dc8e68df800dd28"
  },
  {
   "metadata": {},
   "cell_type": "code",
   "outputs": [],
   "execution_count": null,
   "source": [
    "#Remove leading or trailing spaces from column names\n",
    "heart_disease_dataset.columns = heart_disease_dataset.columns.str.strip()\n",
    "\n",
    "#Drop rows with missing target variable\n",
    "heart_disease_dataset = heart_disease_dataset.dropana(subset=[\"Heart Disease Status\"])\n",
    "\n",
    "#Fill or drop missing values\n",
    "heart_disease_dataset = heart_disease_dataset.fillna(heart_disease_dataset.median(numeric_only=True)) #numeric\n",
    "heart_disease_dataset = heart_disease_dataset.fillna(heart_disease_dataset.mode().iloc[0]) #categorical\n",
    "\n",
    "print(\"Remaining missin values: \\n\", heart_disease_dataset.isna().sum().sum)\n"
   ],
   "id": "4396240899771290"
  },
  {
   "metadata": {},
   "cell_type": "markdown",
   "source": [
    "## Step 3 Standardize Numeric Variables\n",
    "\n",
    "- To ensure the cluster isnt dominated by features with large scales"
   ],
   "id": "5281bf41b0207806"
  },
  {
   "metadata": {},
   "cell_type": "code",
   "outputs": [],
   "execution_count": null,
   "source": [
    "#Only use numeric cols\n",
    "\n",
    "numeric_cols = heart_disease_dataset.select_dtypes(include=np.number).columns.tolist()\n",
    "\n",
    "scaler = StandardScaler()\n",
    "heart_disease_dataset_scaled = pd.DataFrame(scaler.fit_transform(heart_disease_dataset[numeric_cols]), columns=numeric_cols)\n",
    "\n",
    "print(\"Data has been standardized\")\n",
    "heart_disease_dataset_scaled.head()"
   ],
   "id": "ebe29063d3e76c41"
  },
  {
   "metadata": {},
   "cell_type": "markdown",
   "source": [
    "## 4. Select Lifestyle features\n",
    "- Uses the standardized numeric values and select the features for cluster"
   ],
   "id": "c42039c0df2fdfd"
  },
  {
   "metadata": {},
   "cell_type": "code",
   "outputs": [],
   "execution_count": null,
   "source": [
    "\n",
    "\n",
    "#Lifestyle features\n",
    "lifestyle_features = [\"Smoking\", \"Alcohol Consumption\", \"Exercise Habits\", \"Sleep Hours\", \"BMI\", \"Stress Level\"]\n",
    "\n",
    "#Copies the releveant cols\n",
    "heart_disease_dataset_life = heart_disease_dataset[lifestyle_features].copy()\n",
    "\n",
    "#Encode Categorical variables only\n",
    "\n",
    "le = LabelEncoder()\n",
    "for col in ['Smoking', 'Alcohol Consumption', 'Exercise Habits', 'Stress Level']:\n",
    "    heart_disease_dataset_life[col] = le.fit_transform(heart_disease_dataset_life[col].astype(str))\n",
    "\n",
    "heart_disease_dataset_life[\"BMI\"] = heart_disease_dataset_scaled[\"BMI\"]\n",
    "heart_disease_dataset_life[\"Sleep Hours\"] = heart_disease_dataset_scaled[\"Sleep Hours\"]\n",
    "\n",
    "#Check structure\n",
    "\n",
    "heart_disease_dataset_life.head()"
   ],
   "id": "d0a3d61919f1fbb1"
  },
  {
   "metadata": {},
   "cell_type": "markdown",
   "source": [
    "##### Talking Point: (Encoding Categorical)\n",
    "-\n"
   ],
   "id": "a9e1cea26b933e8e"
  },
  {
   "metadata": {},
   "cell_type": "markdown",
   "source": [
    "## 5. Determine Optimal Number of Clusters\n",
    "- Determine the optimal # of clusters using Elbow & Silhouette methods"
   ],
   "id": "7ed1d4f332b1905e"
  },
  {
   "metadata": {},
   "cell_type": "code",
   "outputs": [],
   "execution_count": null,
   "source": [
    "\n",
    "\n",
    "inertia = []\n",
    "sil_scores = []\n",
    "K = range(2, 11)\n",
    "\n",
    "for k in K:\n",
    "    kmeans = KMeans(n_clusters=k, random_state=42)\n",
    "    kmeans.fit(heart_disease_dataset)\n",
    "    inertia.append(kmeans.inertia_)\n",
    "    sil_scores.append(silhouette_score(heart_disease_dataset_life, kmeans.labels_))\n",
    "\n",
    "plt.figure(figsize=(12,5))\n",
    "plt.subplot(1,2,1)\n",
    "plt.plot(K, inertia, 'o-')\n",
    "plt.title('Elbow Method (Inertia)')\n",
    "plt.xlabel('Number of Clusters')\n",
    "plt.ylabel('Inertia')\n",
    "\n",
    "plt.subplot(1,2,2)\n",
    "plt.plot(K, sil_scores, 'o-', color='green')\n",
    "plt.title('Silhouette Score')\n",
    "plt.xlabel('Number of Clusters')\n",
    "plt.ylabel('Score')\n",
    "plt.show()"
   ],
   "id": "63fd9464d6272f9d"
  },
  {
   "metadata": {},
   "cell_type": "markdown",
   "source": "##### Talking Point: (Elbow & Silhouette)",
   "id": "5b5d2a32992f9cb9"
  },
  {
   "metadata": {},
   "cell_type": "markdown",
   "source": [
    "## 6. Apply K-Means Clusters with optimal k\n",
    "- Choose the best k (in this case 3-5 for this data)"
   ],
   "id": "19fc91dd5535c9e0"
  },
  {
   "metadata": {},
   "cell_type": "code",
   "outputs": [],
   "execution_count": null,
   "source": [
    "kmeans = KMeans(n_clusters=4, random_state=42)\n",
    "heart_disease_dataset_life[\"Cluster\"] = kmeans.fit_predict(heart_disease_dataset_life)"
   ],
   "id": "d1295d473b157bef"
  },
  {
   "metadata": {},
   "cell_type": "markdown",
   "source": "## 7. Apply Cluster Profiles\n",
   "id": "e25bdc048d87b96d"
  },
  {
   "metadata": {},
   "cell_type": "code",
   "outputs": [],
   "execution_count": null,
   "source": [
    "cluster_summary = heart_disease_dataset_life.groupby(\"Cluster\").mean().round(2)\n",
    "display(cluster_summary)\n",
    "\n",
    "print(\"\\nCluster counts:\")\n",
    "print(heart_disease_dataset_life[\"Cluster\"].value_counts())"
   ],
   "id": "a49766550067cd7b"
  },
  {
   "metadata": {},
   "cell_type": "markdown",
   "source": "",
   "id": "b65862ee4b4e72ea"
  }
 ],
 "metadata": {
  "kernelspec": {
   "display_name": "Python 3",
   "language": "python",
   "name": "python3"
  },
  "language_info": {
   "codemirror_mode": {
    "name": "ipython",
    "version": 2
   },
   "file_extension": ".py",
   "mimetype": "text/x-python",
   "name": "python",
   "nbconvert_exporter": "python",
   "pygments_lexer": "ipython2",
   "version": "2.7.6"
  }
 },
 "nbformat": 4,
 "nbformat_minor": 5
}
