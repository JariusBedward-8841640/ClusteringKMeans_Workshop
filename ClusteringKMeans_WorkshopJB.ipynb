{
 "cells": [
  {
   "metadata": {},
   "cell_type": "markdown",
   "source": [
    "#### Team members\n",
    "\n",
    "1. Mostafa Allahmoradi - 9087818\n",
    "2. Cemil Caglar Yapici – 9081058\n",
    "3. Jarius Bedward - 8841640"
   ],
   "id": "41f04d2a4aaf7bf6"
  },
  {
   "metadata": {},
   "cell_type": "markdown",
   "source": "# Import Libraries & Dependencies",
   "id": "c55878cdc30e4d13"
  },
  {
   "metadata": {},
   "cell_type": "code",
   "outputs": [],
   "execution_count": null,
   "source": [
    "import pandas as pd\n",
    "import numpy as np\n",
    "import seaborn as sns\n",
    "import matplotlib.pyplot as plt\n",
    "from sklearn.preprocessing import StandardScaler\n",
    "from sklearn.cluster import KMeans\n",
    "from sklearn.decomposition import PCA\n"
   ],
   "id": "3d414aa3a506d31f"
  },
  {
   "metadata": {},
   "cell_type": "markdown",
   "source": [
    "#### Problem statement\n",
    "\n",
    "Area of Focus:\n",
    "In today’s world, health conditions such as heart disease, obesity, and diabetes are rapidly increasing. Many of these illnesses are directly linked to preventable lifestyle factors such as poor diet, lack of physical activity, smoking, alcohol consumption, and inadequate sleep. Despite increased awareness about healthy living, many individuals are still at risk because they underestimate how daily habits affect their well-being in long-term.\n",
    "\n",
    "Outcome:\n",
    "Early detection and prevention could save lives and reduce medical costs, but traditional screening methods are often not effective, and they typically only identify problems after symptoms appear, missing critical opportunities for prevention.\n",
    "\n",
    "This project aims to explore how machine learning can help predict the likelihood of developing a heart condition (or general illness) based on an individual’s diet, lifestyle, and fitness-related factors. By analyzing real-world health data, our goal is to identify key risk factors and build a predictive model that can help individuals take proactive measures toward healthier living."
   ],
   "id": "f1f8f69a5acd207"
  },
  {
   "metadata": {},
   "cell_type": "markdown",
   "source": [
    "#### Hypothesis\n",
    "\n",
    "Null hypothesis:\n",
    "\n",
    "H0: Individual with composite lifestyle score (worse diet + smoking + high alcohol consumption + low activity + poor sleep) are at high risk of heart disease\n",
    "\n",
    "\n",
    "Alternative hypothesis:\n",
    "\n",
    "H1: Current smokers have higher odds of heart disease than non-smokers\n",
    "Test: logistic regression coefficient for smoking; report odds ratio (O.R.) and 95% CI.\n",
    "\n",
    "H2: Individuals with low physical activity (e.g., <150 min/week) have a higher chance of heart disease than those meeting activity guidelines.\n",
    "Test: logistic regression or compare group prevalences; p-value for activity variable.\n",
    "\n",
    "H3: Higher BMI is positively associated with heart disease risk (dose–response).\n",
    "Test: regression coefficient per unit BMI and/or BMI category comparisons.\n",
    "\n",
    "H4: A model using lifestyle and fitness variables (diet quality, physical activity, smoking, alcohol use, sleep, BMI) will predict the likelihood of heart disease occuring\n",
    "Test: compare model performance (ROC-AUC, F1) for (a) single best predictor vs (b) composite score vs (c) full model."
   ],
   "id": "997a75b128063773"
  },
  {
   "metadata": {},
   "cell_type": "markdown",
   "source": "#### Data Source: Heart Disease Risk Factors",
   "id": "92e6d3c0822a894c"
  },
  {
   "metadata": {},
   "cell_type": "markdown",
   "source": "## 1. Load the Data sets",
   "id": "a519c5183ce6d8e6"
  },
  {
   "metadata": {},
   "cell_type": "code",
   "outputs": [],
   "execution_count": null,
   "source": [
    "heart_disease_dataset = pd.read_csv(\"data/heart_disease.csv\")\n",
    "\n",
    "display(heart_disease_dataset.head(5))\n",
    "display(heart_disease_dataset.info())\n",
    "\n",
    "display(heart_disease_dataset.describe().T)"
   ],
   "id": "a7d0b3ec2c810d16"
  },
  {
   "metadata": {},
   "cell_type": "markdown",
   "source": "## 2. Clean the data",
   "id": "9dc8e68df800dd28"
  },
  {
   "metadata": {},
   "cell_type": "code",
   "outputs": [],
   "execution_count": null,
   "source": "",
   "id": "4396240899771290"
  }
 ],
 "metadata": {
  "kernelspec": {
   "display_name": "Python 3",
   "language": "python",
   "name": "python3"
  },
  "language_info": {
   "codemirror_mode": {
    "name": "ipython",
    "version": 2
   },
   "file_extension": ".py",
   "mimetype": "text/x-python",
   "name": "python",
   "nbconvert_exporter": "python",
   "pygments_lexer": "ipython2",
   "version": "2.7.6"
  }
 },
 "nbformat": 4,
 "nbformat_minor": 5
}
